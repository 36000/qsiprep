{
 "cells": [
  {
   "cell_type": "markdown",
   "metadata": {},
   "source": [
    "# Design of `qsirecon`\n",
    "\n",
    "This document describes how data is read by and processed by `qsirecon`, which takes the output from `qsiprep` and performs reconstruction/tracking/etc on these data. \n",
    "\n",
    "## How does pybids deal with derivatives?\n",
    "\n",
    "The output from `qsiprep` goes into a directory that mirrors the input data. We need to get the masks, bvals, bvecs dwi data, anatomical data, transforms and tissue probability maps from the `qsiprep` output. Here is a typical output from a `qsiprep` run (omitting figures):\n",
    "\n",
    "```\n",
    "qsiprep/sub-abcd.html\n",
    "qsiprep/sub-abcd\n",
    "qsiprep/sub-abcd/dwi\n",
    "qsiprep/sub-abcd/dwi/sub-abcd_space-T1w_desc-brain_mask.nii.gz\n",
    "qsiprep/sub-abcd/dwi/sub-abcd_space-T1w_desc-preproc.bvec\n",
    "qsiprep/sub-abcd/dwi/sub-abcd_space-MNI152NLin2009cAsym_desc-preproc_dwi.nii.gz\n",
    "qsiprep/sub-abcd/dwi/sub-abcd_space-T1w_bvec.nii.gz\n",
    "qsiprep/sub-abcd/dwi/sub-abcd_space-MNI152NLin2009cAsym_dwiref.nii.gz\n",
    "qsiprep/sub-abcd/dwi/sub-abcd_confounds.tsv\n",
    "qsiprep/sub-abcd/dwi/sub-abcd_space-MNI152NLin2009cAsym_b0series.nii.gz\n",
    "qsiprep/sub-abcd/dwi/sub-abcd_space-T1w_desc-preproc.bval\n",
    "qsiprep/sub-abcd/dwi/sub-abcd_space-T1w_b0series.nii.gz\n",
    "qsiprep/sub-abcd/dwi/sub-abcd_space-MNI152NLin2009cAsym_desc-preproc.bvec\n",
    "qsiprep/sub-abcd/dwi/sub-abcd_space-MNI152NLin2009cAsym_desc-brain_mask.nii.gz\n",
    "qsiprep/sub-abcd/dwi/sub-abcd_space-MNI152NLin2009cAsym_bvec.nii.gz\n",
    "qsiprep/sub-abcd/dwi/sub-abcd_space-T1w_dwiref.nii.gz\n",
    "qsiprep/sub-abcd/dwi/sub-abcd_space-T1w_desc-preproc.nii.gz\n",
    "qsiprep/sub-abcd/dwi/sub-abcd_space-MNI152NLin2009cAsym_desc-preproc.bval\n",
    "qsiprep/sub-abcd/anat\n",
    "qsiprep/sub-abcd/anat/sub-abcd_dseg.nii.gz\n",
    "qsiprep/sub-abcd/anat/sub-abcd_space-MNI152NLin2009cAsym_dseg.nii.gz\n",
    "qsiprep/sub-abcd/anat/sub-abcd_space-MNI152NLin2009cAsym_label-CSF_probseg.nii.gz\n",
    "qsiprep/sub-abcd/anat/sub-abcd_label-WM_probseg.nii.gz\n",
    "qsiprep/sub-abcd/anat/sub-abcd_space-MNI152NLin2009cAsym_label-WM_probseg.nii.gz\n",
    "qsiprep/sub-abcd/anat/sub-abcd_from-T1w_to-MNI152NLin2009cAsym_mode-image_xfm.h5\n",
    "qsiprep/sub-abcd/anat/sub-abcd_space-MNI152NLin2009cAsym_label-GM_probseg.nii.gz\n",
    "qsiprep/sub-abcd/anat/sub-abcd_label-GM_probseg.nii.gz\n",
    "qsiprep/sub-abcd/anat/sub-abcd_space-MNI152NLin2009cAsym_desc-brain_mask.nii.gz\n",
    "qsiprep/sub-abcd/anat/sub-abcd_desc-brain_mask.nii.gz\n",
    "qsiprep/sub-abcd/anat/sub-abcd_from-MNI152NLin2009cAsym_to-T1w_mode-image_xfm.h5\n",
    "qsiprep/sub-abcd/anat/sub-abcd_label-CSF_probseg.nii.gz\n",
    "qsiprep/sub-abcd/anat/sub-abcd_space-MNI152NLin2009cAsym_desc-preproc_T1w.nii.gz\n",
    "qsiprep/sub-abcd/anat/sub-abcd_from-orig_to-T1w_mode-image_xfm.txt\n",
    "qsiprep/sub-abcd/anat/sub-abcd_desc-preproc_T1w.nii.gz\n",
    "qsiprep/dataset_description.json\n",
    "```"
   ]
  },
  {
   "cell_type": "code",
   "execution_count": 1,
   "metadata": {},
   "outputs": [
    {
     "name": "stdout",
     "output_type": "stream",
     "text": [
      "['/Users/mcieslak/projects/qsiprep/scratch/abcd_test/test_output/qsiprep/sub-abcd/dwi/sub-abcd_space-MNI152NLin2009cAsym_desc-preproc_dwi_dwi.nii.gz', '/Users/mcieslak/projects/qsiprep/scratch/abcd_test/test_output/qsiprep/sub-abcd/dwi/sub-abcd_space-T1w_desc-preproc_dwi.nii.gz']\n"
     ]
    },
    {
     "name": "stderr",
     "output_type": "stream",
     "text": [
      "/Users/mcieslak/miniconda3/envs/qsiprep/lib/python3.6/site-packages/h5py/__init__.py:36: FutureWarning: Conversion of the second argument of issubdtype from `float` to `np.floating` is deprecated. In future, it will be treated as `np.float64 == np.dtype(float).type`.\n",
      "  from ._conv import register_converters as _register_converters\n"
     ]
    }
   ],
   "source": [
    "from bids.layout import BIDSLayout\n",
    "\n",
    "qsiprep_output = \"/Users/mcieslak/projects/qsiprep/scratch/abcd_test/test_output/qsiprep/\"\n",
    "orig_bids = \"/Users/mcieslak/projects/test_bids_data/downsampled/abcd\"\n",
    "\n",
    "qp_layout = BIDSLayout(qsiprep_output)\n",
    "\n",
    "# Get the preprocessed dwi niftis\n",
    "dwi_files = [f.filename for f in qp_layout.get(type='dwi', extensions=['nii', 'nii.gz'])]\n",
    "\n",
    "print(dwi_files)"
   ]
  },
  {
   "cell_type": "markdown",
   "metadata": {},
   "source": [
    "We see there is one output in MNI space and another in T1w space. We only want to work on the one in T1w for this pipeline"
   ]
  },
  {
   "cell_type": "code",
   "execution_count": 2,
   "metadata": {},
   "outputs": [
    {
     "name": "stdout",
     "output_type": "stream",
     "text": [
      "Overwriting pipeline.json\n"
     ]
    }
   ],
   "source": [
    "%%writefile pipeline.json\n",
    "{\n",
    "  \"name\": \"dsistudio_pipeline\",\n",
    "  \"space\": \"T1w\",\n",
    "  \"nodes\": [\n",
    "    {\n",
    "      \"name\": \"dsistudio_gqi\",\n",
    "      \"software\": \"DSI Studio\",\n",
    "      \"action\": \"reconstruction\",\n",
    "      \"input\": \"qsiprep\",\n",
    "      \"output\": [\n",
    "        \"fibgz\",\n",
    "        \"gfa\"\n",
    "      ],\n",
    "      \"parameters\": {\n",
    "        \"method\": \"gqi\"\n",
    "      }\n",
    "    },\n",
    "    {\n",
    "      \"name\": \"deterministic_tracking\",\n",
    "      \"software\": \"DSI Studio\",\n",
    "      \"action\": \"tractography\",\n",
    "      \"input\": \"dsistudio_gqi\",\n",
    "      \"output\": [\n",
    "        \"connectivity\"\n",
    "      ],\n",
    "      \"parameters\": {\n",
    "        \"atlas\": [\n",
    "          \"schaeffer200\"\n",
    "        ]\n",
    "      }\n",
    "    },\n",
    "    {\n",
    "      \"name\": \"controlability\",\n",
    "      \"input\": \"deterministic_tracking\",\n",
    "      \"output\": [\n",
    "        \"summary\"\n",
    "      ]\n",
    "    }\n",
    "  ]\n",
    "}"
   ]
  },
  {
   "cell_type": "code",
   "execution_count": 4,
   "metadata": {},
   "outputs": [
    {
     "name": "stdout",
     "output_type": "stream",
     "text": [
      "Overwriting pipeline.json\n"
     ]
    }
   ],
   "source": [
    "%%writefile pipeline.json\n",
    "{\n",
    "  \"name\": \"dsistudio_pipeline\",\n",
    "  \"space\": \"T1w\",\n",
    "  \"nodes\": [\n",
    "    {\n",
    "      \"name\": \"dsistudio_gqi\",\n",
    "      \"software\": \"DSI Studio\",\n",
    "      \"action\": \"reconstruction\",\n",
    "      \"input\": \"qsiprep\",\n",
    "      \"output\": [\"fibgz\"],\n",
    "      \"parameters\": {\n",
    "        \"method\": \"gqi\"\n",
    "      }\n",
    "    },\n",
    "    {\n",
    "      \"name\": \"scalar_export\",\n",
    "      \"software\": \"DSI Studio\",\n",
    "      \"action\": \"export\",\n",
    "      \"input\": \"dsistudio_gqi\",\n",
    "      \"output\": [\"gfa\"],\n",
    "      \"parameters\": {}\n",
    "    }\n",
    "  ]\n",
    "}"
   ]
  },
  {
   "cell_type": "code",
   "execution_count": 5,
   "metadata": {},
   "outputs": [
    {
     "name": "stderr",
     "output_type": "stream",
     "text": [
      "/Users/mcieslak/miniconda3/envs/qsiprep/lib/python3.6/site-packages/skimage/__init__.py:80: ResourceWarning: unclosed file <_io.TextIOWrapper name='/Users/mcieslak/miniconda3/envs/qsiprep/lib/python3.6/site-packages/pytest.py' mode='r' encoding='utf-8'>\n",
      "  imp.find_module('pytest')\n",
      "/Users/mcieslak/miniconda3/envs/qsiprep/lib/python3.6/importlib/_bootstrap.py:219: ImportWarning: can't resolve package from __spec__ or __package__, falling back on __name__ and __path__\n",
      "  return f(*args, **kwds)\n",
      "/Users/mcieslak/miniconda3/envs/qsiprep/lib/python3.6/importlib/_bootstrap.py:219: ImportWarning: can't resolve package from __spec__ or __package__, falling back on __name__ and __path__\n",
      "  return f(*args, **kwds)\n",
      "/Users/mcieslak/miniconda3/envs/qsiprep/lib/python3.6/importlib/_bootstrap.py:219: ImportWarning: can't resolve package from __spec__ or __package__, falling back on __name__ and __path__\n",
      "  return f(*args, **kwds)\n"
     ]
    },
    {
     "name": "stdout",
     "output_type": "stream",
     "text": [
      "['/Users/mcieslak/projects/qsiprep/scratch/abcd_test/test_output/qsiprep/sub-abcd/dwi/sub-abcd_space-T1w_desc-preproc_dwi.nii.gz']\n"
     ]
    }
   ],
   "source": [
    "import json\n",
    "import nipype.pipeline.engine as pe\n",
    "import nipype.interfaces.utility as niu\n",
    "import logging\n",
    "import os\n",
    "from qsiprep.interfaces.dsi_studio import (DSIStudioCreateSrc, DSIStudioGQIReconstruction,\n",
    "                                           DSIStudioTracking, DSIStudioExport)\n",
    "from qsiprep.interfaces.bids import QsiprepOutput\n",
    "\n",
    "LOGGER = logging.getLogger('nipype.interface')\n",
    "json_file = \"pipeline.json\"\n",
    "with open(json_file, \"r\") as f:\n",
    "    spec = json.load(f)\n",
    "\n",
    "work_space = spec[\"space\"]\n",
    "dwi_files = [f for f in dwi_files if 'space-'+work_space in f]\n",
    "print(dwi_files)"
   ]
  },
  {
   "cell_type": "code",
   "execution_count": 6,
   "metadata": {},
   "outputs": [],
   "source": [
    "inputnode = pe.Node(niu.IdentityInterface(fields=['dwi_file']),\n",
    "                    name=\"inputnode\")\n",
    "inputnode.iterables = [('dwi_file', dwi_files)]\n",
    "\n",
    "# Get bvals, bvecs\n",
    "grab_schemes = pe.Node(QsiprepOutput(), name=\"grab_schemes\")"
   ]
  },
  {
   "cell_type": "markdown",
   "metadata": {},
   "source": [
    "Here are some functions that create the remaining nodes and connect them to the scheme grabber node."
   ]
  },
  {
   "cell_type": "code",
   "execution_count": 41,
   "metadata": {},
   "outputs": [],
   "source": [
    "qsiprep_outputs = QsiprepOutput().output_spec.class_editable_traits()\n",
    "\n",
    "def init_dsi_studio_recon_wf(method=\"gqi\", name=\"dsi_studio_recon\"):\n",
    "    inputnode = pe.Node(\n",
    "        niu.IdentityInterface(\n",
    "            fields=qsiprep_outputs),\n",
    "        name=\"inputnode\")\n",
    "    outputnode = pe.Node(\n",
    "        niu.IdentityInterface(\n",
    "            fields=['fibgz']),\n",
    "        name=\"outputnode\")\n",
    "    workflow = pe.Workflow(name=name)\n",
    "    create_src = pe.Node(DSIStudioCreateSrc(), name=\"create_src\")\n",
    "    gqi_recon = pe.Node(DSIStudioGQIReconstruction(), name=\"gqi_recon\")\n",
    "    # ds_gqi_fibgz = \n",
    "    workflow.connect([\n",
    "        (inputnode, create_src, [('dwi_file', 'input_nifti_file'),\n",
    "                                 ('bval_file', 'input_bvals_file'),\n",
    "                                 ('bvec_file', 'input_bvecs_file')]),\n",
    "        (create_src, gqi_recon, [('output_src', 'input_src_file')]),\n",
    "        (gqi_recon, outputnode, [('output_fib', 'fibgz')]),\n",
    "    ])\n",
    "    return workflow\n",
    "\n",
    "\n",
    "def init_dsi_studio_connectivity_workflow(space, name=\"dsi_studio_connectivity\"):\n",
    "    inputnode = pe.Node(\n",
    "    niu.IdentityInterface(\n",
    "            fields=qsiprep_outputs + ['fibgz']),\n",
    "        name=\"inputnode\")\n",
    "    outputnode = pe.Node(\n",
    "        niu.IdentityInterface(\n",
    "            fields=['matfiles']),\n",
    "        name=\"outputnode\")\n",
    "    workflow = pe.Workflow(name=name)\n",
    "    return workflow\n",
    "\n",
    "\n",
    "def init_dsi_studio_export_workflow(space, name=\"dsi_studio_export\"):\n",
    "    inputnode = pe.Node(\n",
    "    niu.IdentityInterface(\n",
    "            fields=qsiprep_outputs + ['fibgz']),\n",
    "        name=\"inputnode\")\n",
    "    outputnode = pe.Node(\n",
    "        niu.IdentityInterface(fields=['gfa', 'fa0', 'fa1', 'fa2', 'fa3', 'iso']),\n",
    "        name=\"outputnode\")\n",
    "    workflow = pe.Workflow(name=name)\n",
    "    export = pe.Node(DSIStudioExport(to_export=\"gfa,fa0,fa1,fa2,fa3,iso\"), name='export')\n",
    "    \n",
    "    workflow.connect([\n",
    "        (inputnode, export, [('fibgz', 'input_file')]),\n",
    "        (export, outputnode, [('gfa_file', 'gfa'), ('fa0_file', 'fa0'), ('fa1_file', 'fa1'),\n",
    "                              ('fa2_file', 'fa2'), ('fa3_file', 'fa3'), ('iso_file', 'iso')])\n",
    "    ])\n",
    "    return workflow\n",
    "\n",
    "\n",
    "def workflow_from_spec(node_spec, space):\n",
    "    software = node_spec.get(\"software\", \"qsiprep\")\n",
    "    if software == \"DSI Studio\":\n",
    "        if node_spec[\"action\"] == \"reconstruction\":\n",
    "            return init_dsi_studio_recon_wf(name=node_spec[\"name\"], **node_spec[\"parameters\"])\n",
    "        if node_spec[\"action\"] == \"export\":\n",
    "            return init_dsi_studio_export_workflow(name=node_spec[\"name\"], space=space)\n",
    "\n",
    "        \n",
    "# Create a workflow\n",
    "workflow_name = spec['name']\n",
    "workflow = pe.Workflow(name=workflow_name)\n",
    "workflow.base_dir = os.getcwd()\n",
    "workflow.connect([(inputnode, grab_schemes, [('dwi_file', 'in_file')])])\n",
    "\n",
    "# First pass: add the workflows\n",
    "for node_spec in spec[\"nodes\"]:\n",
    "    workflow.add_nodes([workflow_from_spec(node_spec, space=spec['space'])])"
   ]
  },
  {
   "cell_type": "markdown",
   "metadata": {},
   "source": [
    "Now we need to connect the inputs and outputs from each of the nodes"
   ]
  },
  {
   "cell_type": "code",
   "execution_count": 42,
   "metadata": {},
   "outputs": [
    {
     "name": "stdout",
     "output_type": "stream",
     "text": [
      "connecting (dsistudio_gqi.outputnode, scalar_export.inputnode, [('fibgz', 'fibgz')])\n",
      "190103-16:50:37,33 nipype.workflow INFO:\n",
      "\t Workflow dsistudio_pipeline settings: ['check', 'execution', 'logging', 'monitoring']\n",
      "190103-16:50:37,50 nipype.workflow INFO:\n",
      "\t Running serially.\n",
      "190103-16:50:37,53 nipype.workflow INFO:\n",
      "\t [Node] Setting-up \"dsistudio_pipeline.grab_schemes\" in \"/Users/mcieslak/projects/qsiprep/notebooks/dsistudio_pipeline/_dwi_file_..Users..mcieslak..projects..qsiprep..scratch..abcd_test..test_output..qsiprep..sub-abcd..dwi..sub-abcd_space-T1w_desc-preproc_dwi.nii.gz/grab_schemes\".\n",
      "190103-16:50:37,58 nipype.workflow INFO:\n",
      "\t [Node] Cached \"dsistudio_pipeline.grab_schemes\" - collecting precomputed outputs\n",
      "190103-16:50:37,60 nipype.workflow INFO:\n",
      "\t [Node] \"dsistudio_pipeline.grab_schemes\" found cached.\n",
      "190103-16:50:37,63 nipype.workflow INFO:\n",
      "\t [Node] Setting-up \"dsistudio_pipeline.dsistudio_gqi.create_src\" in \"/Users/mcieslak/projects/qsiprep/notebooks/dsistudio_pipeline/dsistudio_gqi/_dwi_file_..Users..mcieslak..projects..qsiprep..scratch..abcd_test..test_output..qsiprep..sub-abcd..dwi..sub-abcd_space-T1w_desc-preproc_dwi.nii.gz/create_src\".\n",
      "190103-16:50:37,71 nipype.workflow INFO:\n",
      "\t [Node] Cached \"dsistudio_pipeline.dsistudio_gqi.create_src\" - collecting precomputed outputs\n",
      "190103-16:50:37,72 nipype.workflow INFO:\n",
      "\t [Node] \"dsistudio_pipeline.dsistudio_gqi.create_src\" found cached.\n",
      "190103-16:50:37,74 nipype.workflow INFO:\n",
      "\t [Node] Setting-up \"dsistudio_pipeline.dsistudio_gqi.gqi_recon\" in \"/Users/mcieslak/projects/qsiprep/notebooks/dsistudio_pipeline/dsistudio_gqi/_dwi_file_..Users..mcieslak..projects..qsiprep..scratch..abcd_test..test_output..qsiprep..sub-abcd..dwi..sub-abcd_space-T1w_desc-preproc_dwi.nii.gz/gqi_recon\".\n",
      "190103-16:50:37,77 nipype.workflow INFO:\n",
      "\t [Node] Cached \"dsistudio_pipeline.dsistudio_gqi.gqi_recon\" - collecting precomputed outputs\n",
      "190103-16:50:37,83 nipype.workflow INFO:\n",
      "\t [Node] \"dsistudio_pipeline.dsistudio_gqi.gqi_recon\" found cached.\n",
      "190103-16:50:37,85 nipype.workflow INFO:\n",
      "\t [Node] Setting-up \"dsistudio_pipeline.scalar_export.export\" in \"/Users/mcieslak/projects/qsiprep/notebooks/dsistudio_pipeline/scalar_export/_dwi_file_..Users..mcieslak..projects..qsiprep..scratch..abcd_test..test_output..qsiprep..sub-abcd..dwi..sub-abcd_space-T1w_desc-preproc_dwi.nii.gz/export\".\n",
      "190103-16:50:37,91 nipype.workflow INFO:\n",
      "\t [Node] Running \"export\" (\"qsiprep.interfaces.dsi_studio.DSIStudioExport\"), a CommandLine Interface with command:\n",
      "dsi_studio --action=exp --source=/Users/mcieslak/projects/qsiprep/notebooks/dsistudio_pipeline/scalar_export/_dwi_file_..Users..mcieslak..projects..qsiprep..scratch..abcd_test..test_output..qsiprep..sub-abcd..dwi..sub-abcd_space-T1w_desc-preproc_dwi.nii.gz/export/sub-abcd_space-T1w_desc-preproc_dwi.src.gz.odf8.f3.bal.rdi.gqi.1.25.fib.gz --export=gfa,fa0,fa1,fa2,fa3,iso\n",
      "190103-16:50:37,237 nipype.interface INFO:\n",
      "\t stdout 2019-01-03T16:50:37.237030:DSI Studio Jul 20 2018, Fang-Cheng Yeh\n",
      "190103-16:50:37,254 nipype.interface INFO:\n",
      "\t stdout 2019-01-03T16:50:37.254125:loading /Users/mcieslak/projects/qsiprep/notebooks/dsistudio_pipeline/scalar_export/_dwi_file_..Users..mcieslak..projects..qsiprep..scratch..abcd_test..test_output..qsiprep..sub-abcd..dwi..sub-abcd_space-T1w_desc-preproc_dwi.nii.gz/export/sub-abcd_space-T1w_desc-preproc_dwi.src.gz.odf8.f3.bal.rdi.gqi.1.25.fib.gz...\n",
      "190103-16:50:37,298 nipype.interface INFO:\n",
      "\t stdout 2019-01-03T16:50:37.298183:retriving matrix gfa\n",
      "190103-16:50:37,307 nipype.interface INFO:\n",
      "\t stdout 2019-01-03T16:50:37.307345:write to file /Users/mcieslak/projects/qsiprep/notebooks/dsistudio_pipeline/scalar_export/_dwi_file_..Users..mcieslak..projects..qsiprep..scratch..abcd_test..test_output..qsiprep..sub-abcd..dwi..sub-abcd_space-T1w_desc-preproc_dwi.nii.gz/export/sub-abcd_space-T1w_desc-preproc_dwi.src.gz.odf8.f3.bal.rdi.gqi.1.25.fib.gz.gfa.nii.gz\n",
      "190103-16:50:37,321 nipype.interface INFO:\n",
      "\t stdout 2019-01-03T16:50:37.307345:retriving matrix fa0\n",
      "190103-16:50:37,323 nipype.interface INFO:\n",
      "\t stdout 2019-01-03T16:50:37.323301:write to file /Users/mcieslak/projects/qsiprep/notebooks/dsistudio_pipeline/scalar_export/_dwi_file_..Users..mcieslak..projects..qsiprep..scratch..abcd_test..test_output..qsiprep..sub-abcd..dwi..sub-abcd_space-T1w_desc-preproc_dwi.nii.gz/export/sub-abcd_space-T1w_desc-preproc_dwi.src.gz.odf8.f3.bal.rdi.gqi.1.25.fib.gz.fa0.nii.gz\n",
      "190103-16:50:37,327 nipype.interface INFO:\n",
      "\t stdout 2019-01-03T16:50:37.323301:retriving matrix fa1\n",
      "190103-16:50:37,332 nipype.interface INFO:\n",
      "\t stdout 2019-01-03T16:50:37.332531:write to file /Users/mcieslak/projects/qsiprep/notebooks/dsistudio_pipeline/scalar_export/_dwi_file_..Users..mcieslak..projects..qsiprep..scratch..abcd_test..test_output..qsiprep..sub-abcd..dwi..sub-abcd_space-T1w_desc-preproc_dwi.nii.gz/export/sub-abcd_space-T1w_desc-preproc_dwi.src.gz.odf8.f3.bal.rdi.gqi.1.25.fib.gz.fa1.nii.gz\n",
      "190103-16:50:37,337 nipype.interface INFO:\n",
      "\t stdout 2019-01-03T16:50:37.332531:retriving matrix fa2\n",
      "190103-16:50:37,345 nipype.interface INFO:\n",
      "\t stdout 2019-01-03T16:50:37.345671:write to file /Users/mcieslak/projects/qsiprep/notebooks/dsistudio_pipeline/scalar_export/_dwi_file_..Users..mcieslak..projects..qsiprep..scratch..abcd_test..test_output..qsiprep..sub-abcd..dwi..sub-abcd_space-T1w_desc-preproc_dwi.nii.gz/export/sub-abcd_space-T1w_desc-preproc_dwi.src.gz.odf8.f3.bal.rdi.gqi.1.25.fib.gz.fa2.nii.gz\n",
      "190103-16:50:37,347 nipype.interface INFO:\n",
      "\t stdout 2019-01-03T16:50:37.345671:Cannot find matrix fa3 in the file/Users/mcieslak/projects/qsiprep/notebooks/dsistudio_pipeline/scalar_export/_dwi_file_..Users..mcieslak..projects..qsiprep..scratch..abcd_test..test_output..qsiprep..sub-abcd..dwi..sub-abcd_space-T1w_desc-preproc_dwi.nii.gz/export/sub-abcd_space-T1w_desc-preproc_dwi.src.gz.odf8.f3.bal.rdi.gqi.1.25.fib.gz\n",
      "190103-16:50:37,348 nipype.interface INFO:\n",
      "\t stdout 2019-01-03T16:50:37.345671:retriving matrix iso\n",
      "190103-16:50:37,362 nipype.interface INFO:\n",
      "\t stdout 2019-01-03T16:50:37.362654:write to file /Users/mcieslak/projects/qsiprep/notebooks/dsistudio_pipeline/scalar_export/_dwi_file_..Users..mcieslak..projects..qsiprep..scratch..abcd_test..test_output..qsiprep..sub-abcd..dwi..sub-abcd_space-T1w_desc-preproc_dwi.nii.gz/export/sub-abcd_space-T1w_desc-preproc_dwi.src.gz.odf8.f3.bal.rdi.gqi.1.25.fib.gz.iso.nii.gz\n",
      "searching for gfa in /Users/mcieslak/projects/qsiprep/notebooks/dsistudio_pipeline/scalar_export/_dwi_file_..Users..mcieslak..projects..qsiprep..scratch..abcd_test..test_output..qsiprep..sub-abcd..dwi..sub-abcd_space-T1w_desc-preproc_dwi.nii.gz/export\n",
      "found ['sub-abcd_space-T1w_desc-preproc_dwi.src.gz.odf8.f3.bal.rdi.gqi.1.25.fib.gz.gfa.nii.gz']\n",
      "{'gfa_file': '/Users/mcieslak/projects/qsiprep/notebooks/dsistudio_pipeline/scalar_export/_dwi_file_..Users..mcieslak..projects..qsiprep..scratch..abcd_test..test_output..qsiprep..sub-abcd..dwi..sub-abcd_space-T1w_desc-preproc_dwi.nii.gz/export/sub-abcd_space-T1w_desc-preproc_dwi.src.gz.odf8.f3.bal.rdi.gqi.1.25.fib.gz.gfa.nii.gz', 'fa0_file': <undefined>, 'fa1_file': <undefined>, 'fa2_file': <undefined>, 'fa3_file': <undefined>, 'fa4_file': <undefined>, 'iso_file': <undefined>, 'image0_file': <undefined>, 'args': <undefined>, 'environ': {}}\n",
      "searching for fa0 in /Users/mcieslak/projects/qsiprep/notebooks/dsistudio_pipeline/scalar_export/_dwi_file_..Users..mcieslak..projects..qsiprep..scratch..abcd_test..test_output..qsiprep..sub-abcd..dwi..sub-abcd_space-T1w_desc-preproc_dwi.nii.gz/export\n",
      "found ['sub-abcd_space-T1w_desc-preproc_dwi.src.gz.odf8.f3.bal.rdi.gqi.1.25.fib.gz.fa0.nii.gz']\n",
      "{'gfa_file': '/Users/mcieslak/projects/qsiprep/notebooks/dsistudio_pipeline/scalar_export/_dwi_file_..Users..mcieslak..projects..qsiprep..scratch..abcd_test..test_output..qsiprep..sub-abcd..dwi..sub-abcd_space-T1w_desc-preproc_dwi.nii.gz/export/sub-abcd_space-T1w_desc-preproc_dwi.src.gz.odf8.f3.bal.rdi.gqi.1.25.fib.gz.gfa.nii.gz', 'fa0_file': '/Users/mcieslak/projects/qsiprep/notebooks/dsistudio_pipeline/scalar_export/_dwi_file_..Users..mcieslak..projects..qsiprep..scratch..abcd_test..test_output..qsiprep..sub-abcd..dwi..sub-abcd_space-T1w_desc-preproc_dwi.nii.gz/export/sub-abcd_space-T1w_desc-preproc_dwi.src.gz.odf8.f3.bal.rdi.gqi.1.25.fib.gz.fa0.nii.gz', 'fa1_file': <undefined>, 'fa2_file': <undefined>, 'fa3_file': <undefined>, 'fa4_file': <undefined>, 'iso_file': <undefined>, 'image0_file': <undefined>, 'args': <undefined>, 'environ': {}}\n",
      "searching for fa1 in /Users/mcieslak/projects/qsiprep/notebooks/dsistudio_pipeline/scalar_export/_dwi_file_..Users..mcieslak..projects..qsiprep..scratch..abcd_test..test_output..qsiprep..sub-abcd..dwi..sub-abcd_space-T1w_desc-preproc_dwi.nii.gz/export\n",
      "found ['sub-abcd_space-T1w_desc-preproc_dwi.src.gz.odf8.f3.bal.rdi.gqi.1.25.fib.gz.fa1.nii.gz']\n",
      "{'gfa_file': '/Users/mcieslak/projects/qsiprep/notebooks/dsistudio_pipeline/scalar_export/_dwi_file_..Users..mcieslak..projects..qsiprep..scratch..abcd_test..test_output..qsiprep..sub-abcd..dwi..sub-abcd_space-T1w_desc-preproc_dwi.nii.gz/export/sub-abcd_space-T1w_desc-preproc_dwi.src.gz.odf8.f3.bal.rdi.gqi.1.25.fib.gz.gfa.nii.gz', 'fa0_file': '/Users/mcieslak/projects/qsiprep/notebooks/dsistudio_pipeline/scalar_export/_dwi_file_..Users..mcieslak..projects..qsiprep..scratch..abcd_test..test_output..qsiprep..sub-abcd..dwi..sub-abcd_space-T1w_desc-preproc_dwi.nii.gz/export/sub-abcd_space-T1w_desc-preproc_dwi.src.gz.odf8.f3.bal.rdi.gqi.1.25.fib.gz.fa0.nii.gz', 'fa1_file': '/Users/mcieslak/projects/qsiprep/notebooks/dsistudio_pipeline/scalar_export/_dwi_file_..Users..mcieslak..projects..qsiprep..scratch..abcd_test..test_output..qsiprep..sub-abcd..dwi..sub-abcd_space-T1w_desc-preproc_dwi.nii.gz/export/sub-abcd_space-T1w_desc-preproc_dwi.src.gz.odf8.f3.bal.rdi.gqi.1.25.fib.gz.fa1.nii.gz', 'fa2_file': <undefined>, 'fa3_file': <undefined>, 'fa4_file': <undefined>, 'iso_file': <undefined>, 'image0_file': <undefined>, 'args': <undefined>, 'environ': {}}\n",
      "searching for fa2 in /Users/mcieslak/projects/qsiprep/notebooks/dsistudio_pipeline/scalar_export/_dwi_file_..Users..mcieslak..projects..qsiprep..scratch..abcd_test..test_output..qsiprep..sub-abcd..dwi..sub-abcd_space-T1w_desc-preproc_dwi.nii.gz/export\n",
      "found ['sub-abcd_space-T1w_desc-preproc_dwi.src.gz.odf8.f3.bal.rdi.gqi.1.25.fib.gz.fa2.nii.gz']\n",
      "{'gfa_file': '/Users/mcieslak/projects/qsiprep/notebooks/dsistudio_pipeline/scalar_export/_dwi_file_..Users..mcieslak..projects..qsiprep..scratch..abcd_test..test_output..qsiprep..sub-abcd..dwi..sub-abcd_space-T1w_desc-preproc_dwi.nii.gz/export/sub-abcd_space-T1w_desc-preproc_dwi.src.gz.odf8.f3.bal.rdi.gqi.1.25.fib.gz.gfa.nii.gz', 'fa0_file': '/Users/mcieslak/projects/qsiprep/notebooks/dsistudio_pipeline/scalar_export/_dwi_file_..Users..mcieslak..projects..qsiprep..scratch..abcd_test..test_output..qsiprep..sub-abcd..dwi..sub-abcd_space-T1w_desc-preproc_dwi.nii.gz/export/sub-abcd_space-T1w_desc-preproc_dwi.src.gz.odf8.f3.bal.rdi.gqi.1.25.fib.gz.fa0.nii.gz', 'fa1_file': '/Users/mcieslak/projects/qsiprep/notebooks/dsistudio_pipeline/scalar_export/_dwi_file_..Users..mcieslak..projects..qsiprep..scratch..abcd_test..test_output..qsiprep..sub-abcd..dwi..sub-abcd_space-T1w_desc-preproc_dwi.nii.gz/export/sub-abcd_space-T1w_desc-preproc_dwi.src.gz.odf8.f3.bal.rdi.gqi.1.25.fib.gz.fa1.nii.gz', 'fa2_file': '/Users/mcieslak/projects/qsiprep/notebooks/dsistudio_pipeline/scalar_export/_dwi_file_..Users..mcieslak..projects..qsiprep..scratch..abcd_test..test_output..qsiprep..sub-abcd..dwi..sub-abcd_space-T1w_desc-preproc_dwi.nii.gz/export/sub-abcd_space-T1w_desc-preproc_dwi.src.gz.odf8.f3.bal.rdi.gqi.1.25.fib.gz.fa2.nii.gz', 'fa3_file': <undefined>, 'fa4_file': <undefined>, 'iso_file': <undefined>, 'image0_file': <undefined>, 'args': <undefined>, 'environ': {}}\n",
      "searching for fa3 in /Users/mcieslak/projects/qsiprep/notebooks/dsistudio_pipeline/scalar_export/_dwi_file_..Users..mcieslak..projects..qsiprep..scratch..abcd_test..test_output..qsiprep..sub-abcd..dwi..sub-abcd_space-T1w_desc-preproc_dwi.nii.gz/export\n",
      "found []\n",
      "{'gfa_file': '/Users/mcieslak/projects/qsiprep/notebooks/dsistudio_pipeline/scalar_export/_dwi_file_..Users..mcieslak..projects..qsiprep..scratch..abcd_test..test_output..qsiprep..sub-abcd..dwi..sub-abcd_space-T1w_desc-preproc_dwi.nii.gz/export/sub-abcd_space-T1w_desc-preproc_dwi.src.gz.odf8.f3.bal.rdi.gqi.1.25.fib.gz.gfa.nii.gz', 'fa0_file': '/Users/mcieslak/projects/qsiprep/notebooks/dsistudio_pipeline/scalar_export/_dwi_file_..Users..mcieslak..projects..qsiprep..scratch..abcd_test..test_output..qsiprep..sub-abcd..dwi..sub-abcd_space-T1w_desc-preproc_dwi.nii.gz/export/sub-abcd_space-T1w_desc-preproc_dwi.src.gz.odf8.f3.bal.rdi.gqi.1.25.fib.gz.fa0.nii.gz', 'fa1_file': '/Users/mcieslak/projects/qsiprep/notebooks/dsistudio_pipeline/scalar_export/_dwi_file_..Users..mcieslak..projects..qsiprep..scratch..abcd_test..test_output..qsiprep..sub-abcd..dwi..sub-abcd_space-T1w_desc-preproc_dwi.nii.gz/export/sub-abcd_space-T1w_desc-preproc_dwi.src.gz.odf8.f3.bal.rdi.gqi.1.25.fib.gz.fa1.nii.gz', 'fa2_file': '/Users/mcieslak/projects/qsiprep/notebooks/dsistudio_pipeline/scalar_export/_dwi_file_..Users..mcieslak..projects..qsiprep..scratch..abcd_test..test_output..qsiprep..sub-abcd..dwi..sub-abcd_space-T1w_desc-preproc_dwi.nii.gz/export/sub-abcd_space-T1w_desc-preproc_dwi.src.gz.odf8.f3.bal.rdi.gqi.1.25.fib.gz.fa2.nii.gz', 'fa3_file': <undefined>, 'fa4_file': <undefined>, 'iso_file': <undefined>, 'image0_file': <undefined>, 'args': <undefined>, 'environ': {}}\n",
      "searching for iso in /Users/mcieslak/projects/qsiprep/notebooks/dsistudio_pipeline/scalar_export/_dwi_file_..Users..mcieslak..projects..qsiprep..scratch..abcd_test..test_output..qsiprep..sub-abcd..dwi..sub-abcd_space-T1w_desc-preproc_dwi.nii.gz/export\n",
      "found ['sub-abcd_space-T1w_desc-preproc_dwi.src.gz.odf8.f3.bal.rdi.gqi.1.25.fib.gz.iso.nii.gz']\n",
      "{'gfa_file': '/Users/mcieslak/projects/qsiprep/notebooks/dsistudio_pipeline/scalar_export/_dwi_file_..Users..mcieslak..projects..qsiprep..scratch..abcd_test..test_output..qsiprep..sub-abcd..dwi..sub-abcd_space-T1w_desc-preproc_dwi.nii.gz/export/sub-abcd_space-T1w_desc-preproc_dwi.src.gz.odf8.f3.bal.rdi.gqi.1.25.fib.gz.gfa.nii.gz', 'fa0_file': '/Users/mcieslak/projects/qsiprep/notebooks/dsistudio_pipeline/scalar_export/_dwi_file_..Users..mcieslak..projects..qsiprep..scratch..abcd_test..test_output..qsiprep..sub-abcd..dwi..sub-abcd_space-T1w_desc-preproc_dwi.nii.gz/export/sub-abcd_space-T1w_desc-preproc_dwi.src.gz.odf8.f3.bal.rdi.gqi.1.25.fib.gz.fa0.nii.gz', 'fa1_file': '/Users/mcieslak/projects/qsiprep/notebooks/dsistudio_pipeline/scalar_export/_dwi_file_..Users..mcieslak..projects..qsiprep..scratch..abcd_test..test_output..qsiprep..sub-abcd..dwi..sub-abcd_space-T1w_desc-preproc_dwi.nii.gz/export/sub-abcd_space-T1w_desc-preproc_dwi.src.gz.odf8.f3.bal.rdi.gqi.1.25.fib.gz.fa1.nii.gz', 'fa2_file': '/Users/mcieslak/projects/qsiprep/notebooks/dsistudio_pipeline/scalar_export/_dwi_file_..Users..mcieslak..projects..qsiprep..scratch..abcd_test..test_output..qsiprep..sub-abcd..dwi..sub-abcd_space-T1w_desc-preproc_dwi.nii.gz/export/sub-abcd_space-T1w_desc-preproc_dwi.src.gz.odf8.f3.bal.rdi.gqi.1.25.fib.gz.fa2.nii.gz', 'fa3_file': <undefined>, 'fa4_file': <undefined>, 'iso_file': '/Users/mcieslak/projects/qsiprep/notebooks/dsistudio_pipeline/scalar_export/_dwi_file_..Users..mcieslak..projects..qsiprep..scratch..abcd_test..test_output..qsiprep..sub-abcd..dwi..sub-abcd_space-T1w_desc-preproc_dwi.nii.gz/export/sub-abcd_space-T1w_desc-preproc_dwi.src.gz.odf8.f3.bal.rdi.gqi.1.25.fib.gz.iso.nii.gz', 'image0_file': <undefined>, 'args': <undefined>, 'environ': {}}\n"
     ]
    },
    {
     "name": "stdout",
     "output_type": "stream",
     "text": [
      "190103-16:50:37,511 nipype.workflow INFO:\n",
      "\t [Node] Finished \"dsistudio_pipeline.scalar_export.export\".\n"
     ]
    },
    {
     "data": {
      "text/plain": [
       "<networkx.classes.digraph.DiGraph at 0x119b16a58>"
      ]
     },
     "execution_count": 42,
     "metadata": {},
     "output_type": "execute_result"
    }
   ],
   "source": [
    "default_connections = [(trait, trait) for trait in qsiprep_outputs]\n",
    "default_input_set = set(qsiprep_outputs)\n",
    "\n",
    "def get_connections(src, dest):\n",
    "    src_outputs = set(src.outputs.get().keys())\n",
    "    dest_inputs = set(dest.inputs.get().keys())\n",
    "    overlap = src_outputs.intersection(dest_inputs) - default_input_set\n",
    "    return [(trait, trait) for trait in overlap]\n",
    "\n",
    "\n",
    "for node_spec in spec['nodes']:\n",
    "    node_name = node_spec['name'] + \".inputnode\"\n",
    "    node = workflow.get_node(node_name)\n",
    "    # directly connect all the qsiprep outputs to every node\n",
    "    workflow.connect([(grab_schemes, node, default_connections)])\n",
    "    if not node_spec['input'] == 'qsiprep':\n",
    "        upstream_node_name = node_spec['input'] + '.outputnode'\n",
    "        upstream_node = workflow.get_node(upstream_node_name)\n",
    "        # Connect outputs from the inputnode to spec of this node\n",
    "        connections = get_connections(upstream_node, node)\n",
    "        print(\"connecting\",(upstream_node, node, connections))\n",
    "        workflow.connect([(upstream_node, node, connections)])\n",
    "    \n",
    "workflow.config['execution']['stop_on_first_crash'] = 'true'\n",
    "workflow.run()"
   ]
  },
  {
   "cell_type": "code",
   "execution_count": 10,
   "metadata": {},
   "outputs": [
    {
     "name": "stderr",
     "output_type": "stream",
     "text": [
      "/Users/mcieslak/miniconda3/envs/qsiprep/lib/python3.6/subprocess.py:766: ResourceWarning: subprocess 3568 is still running\n",
      "  ResourceWarning, source=self)\n"
     ]
    }
   ],
   "source": [
    "%qtconsole"
   ]
  },
  {
   "cell_type": "code",
   "execution_count": null,
   "metadata": {},
   "outputs": [],
   "source": []
  },
  {
   "cell_type": "code",
   "execution_count": null,
   "metadata": {},
   "outputs": [],
   "source": []
  },
  {
   "cell_type": "code",
   "execution_count": null,
   "metadata": {},
   "outputs": [],
   "source": []
  }
 ],
 "metadata": {
  "kernelspec": {
   "display_name": "Python 3",
   "language": "python",
   "name": "python3"
  },
  "language_info": {
   "codemirror_mode": {
    "name": "ipython",
    "version": 3
   },
   "file_extension": ".py",
   "mimetype": "text/x-python",
   "name": "python",
   "nbconvert_exporter": "python",
   "pygments_lexer": "ipython3",
   "version": "3.6.5"
  }
 },
 "nbformat": 4,
 "nbformat_minor": 2
}
