{
 "cells": [
  {
   "cell_type": "markdown",
   "metadata": {},
   "source": [
    "We need to be able to correctly merge DWI series if they're compatible and the user has requested the merge. Here are some example use cases and how they are handled.\n",
    "\n",
    "## Two scans to be merged\n",
    "\n",
    "Here there are two scans that have the same phase encoding direction and voxel grid size. The differ in polarity, but that is not important for this test."
   ]
  },
  {
   "cell_type": "code",
   "execution_count": 27,
   "metadata": {},
   "outputs": [
    {
     "name": "stdout",
     "output_type": "stream",
     "text": [
      "[(['/Users/mcieslak/projects/test_bids_data/pepolar/sub-1/dwi/sub-1_dir-AP_dwi.nii.gz'], ('j', '/Users/mcieslak/projects/test_bids_data/pepolar/sub-1/fmap/sub-1_dir-PA_epi.nii.gz')), (['/Users/mcieslak/projects/test_bids_data/pepolar/sub-1/dwi/sub-1_dir-PA_run-1_dwi.nii.gz', '/Users/mcieslak/projects/test_bids_data/pepolar/sub-1/dwi/sub-1_dir-PA_run-2_dwi.nii.gz', '/Users/mcieslak/projects/test_bids_data/pepolar/sub-1/dwi/sub-1_dir-PA_run-3_dwi.nii.gz'], ('j-', '/Users/mcieslak/projects/test_bids_data/pepolar/sub-1/fmap/sub-1_dir-AP_epi.nii.gz'))]\n"
     ]
    },
    {
     "name": "stderr",
     "output_type": "stream",
     "text": [
      "/Users/mcieslak/miniconda3/envs/py3k/lib/python3.6/site-packages/bids/layout/bids_layout.py:116: UserWarning: 'dataset_description.json' file is missing from project root. You may want to set the root path to a valid BIDS project.\n",
      "  warnings.warn(\"'dataset_description.json' file is missing from \"\n"
     ]
    }
   ],
   "source": [
    "from qsiprep.utils.bids import collect_data\n",
    "subject_data, layout = collect_data('/Users/mcieslak/projects/test_bids_data/pepolar', '1')\n",
    "# Handle the grouping of multiple dwi files within a session\n",
    "sessions = layout.get_sessions()\n",
    "all_dwis = subject_data['dwi']\n",
    "dwi_groups = []\n",
    "from collections import defaultdict\n",
    "if sessions:\n",
    "    for session in sessions:\n",
    "        dwi_groups.append([img for img in all_dwis if 'ses-'+session in img])\n",
    "else:\n",
    "    dwi_groups = [all_dwis]\n",
    "\n",
    "def merge_dwis(dwi_files, layout, ignore=[],combine_all_dwis=True):\n",
    "    parsed_dwis = []\n",
    "    for ref_file in dwi_files:\n",
    "        # Find associated sbref, if possible\n",
    "        metadata = layout.get_metadata(ref_file)\n",
    "\n",
    "        # Find fieldmaps. Options: (epi|syn)\n",
    "        fmaps = []\n",
    "        if 'fieldmaps' not in ignore:\n",
    "            fmaps = layout.get_fieldmap(ref_file, return_list=True)\n",
    "            fmap_files = []\n",
    "            for fmap in fmaps:\n",
    "                if fmap['type'] == 'epi':\n",
    "                    fmap_files.append(fmap['epi'])\n",
    "            if len(fmap_files) > 1:\n",
    "                print(\"WARNING MULTIPLE FMAPS FOUND\")\n",
    "                fmap_file = fmap_files[0]\n",
    "            elif len(fmap_files) == 1:\n",
    "                fmap_file = fmap_files[0]\n",
    "            else:\n",
    "                fmap_file = \"\"\n",
    "                \n",
    "        parsed_dwis.append(\n",
    "            (ref_file, metadata['PhaseEncodingDirection'], fmap_file))\n",
    "        \n",
    "    scans_and_maps = []\n",
    "    if combine_all_dwis:\n",
    "        groups = defaultdict(list)\n",
    "        for ref_file, pe_dir, fmap in parsed_dwis:\n",
    "            groups[(pe_dir, fmap)].append(ref_file)\n",
    "        \n",
    "        if len(groups) > 2:\n",
    "            LOGGER.critical(\"Unable to match fieldmaps to DWIs.\")\n",
    "        for k,v in groups.items():\n",
    "            scans_and_maps.append((v,k))\n",
    "        if len(groups) == 2:\n",
    "            LOGGER.warning(\"Using b0 templates from opposite PEs to unwarp instead of fieldmaps\")\n",
    "    else:\n",
    "        for ref_file, pe_dir, fmap in parsed_dwis:\n",
    "            scans_and_maps.append((ref_file, fmap))\n",
    "                \n",
    "    # list of [([scans], fieldmap), ([scans], fieldmap)]\n",
    "    return scans_and_maps\n",
    "\n",
    "for dwi_group in dwi_groups:\n",
    "    print(merge_dwis(dwi_group, layout))\n"
   ]
  },
  {
   "cell_type": "code",
   "execution_count": null,
   "metadata": {},
   "outputs": [],
   "source": []
  },
  {
   "cell_type": "code",
   "execution_count": null,
   "metadata": {},
   "outputs": [],
   "source": []
  },
  {
   "cell_type": "code",
   "execution_count": null,
   "metadata": {},
   "outputs": [],
   "source": []
  },
  {
   "cell_type": "code",
   "execution_count": null,
   "metadata": {},
   "outputs": [],
   "source": []
  },
  {
   "cell_type": "code",
   "execution_count": 28,
   "metadata": {},
   "outputs": [],
   "source": [
    "%qtconsole"
   ]
  }
 ],
 "metadata": {
  "kernelspec": {
   "display_name": "Python 3",
   "language": "python",
   "name": "python3"
  },
  "language_info": {
   "codemirror_mode": {
    "name": "ipython",
    "version": 3
   },
   "file_extension": ".py",
   "mimetype": "text/x-python",
   "name": "python",
   "nbconvert_exporter": "python",
   "pygments_lexer": "ipython3",
   "version": "3.6.5"
  }
 },
 "nbformat": 4,
 "nbformat_minor": 2
}
